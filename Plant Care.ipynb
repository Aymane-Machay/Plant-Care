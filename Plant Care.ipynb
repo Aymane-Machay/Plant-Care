{
  "cells": [
    {
      "cell_type": "code",
      "execution_count": 1,
      "metadata": {
        "id": "x07iNJvj9CLu"
      },
      "outputs": [],
      "source": [
        "import tensorflow as tf\n",
        "import numpy as np\n",
        "from tensorflow.keras import datasets, layers, models\n",
        "from tensorflow.keras.preprocessing import image\n",
        "import torch\n",
        "from PIL import Image\n",
        "import torchvision.transforms as transforms\n",
        "import matplotlib.pyplot as plt\n",
        "import os\n",
        "import random"
      ]
    },
    {
      "cell_type": "code",
      "execution_count": 2,
      "metadata": {
        "id": "9OnA7dRD9yrz"
      },
      "outputs": [],
      "source": [
        "def load_dataset():\n",
        "    raw = []\n",
        "    c = 0\n",
        "    test_image = []\n",
        "    test_label = []\n",
        "    train_image = []\n",
        "    train_label = []\n",
        "    rootdir = \"/content/PlantVillage-Dataset/raw/color\"\n",
        "    for subdir, dirs, files in os.walk(rootdir):\n",
        "        if subdir != rootdir:\n",
        "            label = subdir[len(rootdir)+1:]\n",
        "            #pch = label.split(\"___\")\n",
        "            #specie_label = pch[0]\n",
        "            #status_label = pch[1]\n",
        "            for file in files:\n",
        "              path = subdir+\"/\"+ file\n",
        "              image = Image.open(path)\n",
        "              transform = transforms.Compose([transforms.PILToTensor()])\n",
        "              img_tensor = transform(image)\n",
        "              raw.append((img_tensor,label))\n",
        "    random.shuffle(raw)\n",
        "    for item in raw:\n",
        "      if c<3999:\n",
        "        test_image.append(item[0])\n",
        "        test_label.append(item[1])\n",
        "      else:\n",
        "        train_image.append(item[0])\n",
        "        train_label.append(item[1])\n",
        "      c=c+1\n",
        "    return (train_image, train_label, test_image, test_label)\n"
      ]
    },
    {
      "cell_type": "code",
      "execution_count": 5,
      "metadata": {
        "id": "-KP28uyP-tSD"
      },
      "outputs": [],
      "source": [
        "model = models.Sequential()\n",
        "model.add(layers.Conv2D(32, (3, 3), activation='relu', input_shape=(256, 256, 3)))\n",
        "model.add(layers.MaxPooling2D((2, 2)))\n",
        "model.add(layers.Conv2D(64, (3, 3), activation='relu'))\n",
        "model.add(layers.MaxPooling2D((2, 2)))\n",
        "model.add(layers.Conv2D(64, (3, 3), activation='relu'))\n",
        "\n",
        "model.add(layers.Flatten())\n",
        "model.add(layers.Dense(64, activation='relu'))\n",
        "model.add(layers.Dense(40))"
      ]
    },
    {
      "cell_type": "code",
      "execution_count": 6,
      "metadata": {
        "colab": {
          "base_uri": "https://localhost:8080/"
        },
        "id": "GmuLKea6i-Qm",
        "outputId": "19394fbe-7e9a-48be-959b-db97b8d1fa70"
      },
      "outputs": [
        {
          "name": "stdout",
          "output_type": "stream",
          "text": [
            "Found 54305 files belonging to 38 classes.\n",
            "Using 48875 files for training.\n",
            "Found 54305 files belonging to 38 classes.\n",
            "Using 5430 files for validation.\n"
          ]
        }
      ],
      "source": [
        "rootdir = \"/content/PlantVillage-Dataset/raw/color\"\n",
        "ds_train= tf.keras.preprocessing.image_dataset_from_directory(\n",
        "\trootdir,\n",
        "\tlabels='inferred',\n",
        "\tlabel_mode = \"int\",\n",
        "\tclass_names=['Apple___Apple_scab', 'Apple___Black_rot', 'Apple___Cedar_apple_rust', 'Apple___healthy', 'Blueberry___healthy', 'Cherry_(including_sour)___Powdery_mildew', 'Cherry_(including_sour)___healthy', 'Corn_(maize)___Cercospora_leaf_spot Gray_leaf_spot', 'Corn_(maize)___Common_rust_', 'Corn_(maize)___Northern_Leaf_Blight', 'Corn_(maize)___healthy', 'Grape___Black_rot', 'Grape___Esca_(Black_Measles)', 'Grape___Leaf_blight_(Isariopsis_Leaf_Spot)', 'Grape___healthy', 'Orange___Haunglongbing_(Citrus_greening)', 'Peach___Bacterial_spot', 'Peach___healthy', 'Pepper,_bell___Bacterial_spot', 'Pepper,_bell___healthy', 'Potato___Early_blight', 'Potato___Late_blight', 'Potato___healthy', 'Raspberry___healthy', 'Soybean___healthy', 'Squash___Powdery_mildew', 'Strawberry___Leaf_scorch', 'Strawberry___healthy', 'Tomato___Bacterial_spot', 'Tomato___Early_blight', 'Tomato___Late_blight', 'Tomato___Leaf_Mold', 'Tomato___Septoria_leaf_spot', 'Tomato___Spider_mites Two-spotted_spider_mite', 'Tomato___Target_Spot', 'Tomato___Tomato_Yellow_Leaf_Curl_Virus', 'Tomato___Tomato_mosaic_virus', 'Tomato___healthy'],\n",
        "\tcolor_mode = 'rgb',\n",
        "\tbatch_size = 32,\n",
        "\timage_size = (256,256),\n",
        "\tshuffle = True,\n",
        "\tseed = 123,\n",
        "\tvalidation_split = 0.1,\n",
        "\tsubset = \"training\",\n",
        ")\n",
        "\n",
        "ds_validate= tf.keras.preprocessing.image_dataset_from_directory(\n",
        "\trootdir,\n",
        "\tlabels='inferred',\n",
        "\tlabel_mode = \"int\",\n",
        "\tclass_names=['Apple___Apple_scab', 'Apple___Black_rot', 'Apple___Cedar_apple_rust', 'Apple___healthy', 'Blueberry___healthy', 'Cherry_(including_sour)___Powdery_mildew', 'Cherry_(including_sour)___healthy', 'Corn_(maize)___Cercospora_leaf_spot Gray_leaf_spot', 'Corn_(maize)___Common_rust_', 'Corn_(maize)___Northern_Leaf_Blight', 'Corn_(maize)___healthy', 'Grape___Black_rot', 'Grape___Esca_(Black_Measles)', 'Grape___Leaf_blight_(Isariopsis_Leaf_Spot)', 'Grape___healthy', 'Orange___Haunglongbing_(Citrus_greening)', 'Peach___Bacterial_spot', 'Peach___healthy', 'Pepper,_bell___Bacterial_spot', 'Pepper,_bell___healthy', 'Potato___Early_blight', 'Potato___Late_blight', 'Potato___healthy', 'Raspberry___healthy', 'Soybean___healthy', 'Squash___Powdery_mildew', 'Strawberry___Leaf_scorch', 'Strawberry___healthy', 'Tomato___Bacterial_spot', 'Tomato___Early_blight', 'Tomato___Late_blight', 'Tomato___Leaf_Mold', 'Tomato___Septoria_leaf_spot', 'Tomato___Spider_mites Two-spotted_spider_mite', 'Tomato___Target_Spot', 'Tomato___Tomato_Yellow_Leaf_Curl_Virus', 'Tomato___Tomato_mosaic_virus', 'Tomato___healthy'],\n",
        "\tcolor_mode = 'rgb',\n",
        "\tbatch_size = 32,\n",
        "\timage_size = (256,256),\n",
        "\tshuffle = True,\n",
        "\tseed = 123,\n",
        "\tvalidation_split = 0.1,\n",
        "\tsubset = \"validation\",\n",
        ")"
      ]
    },
    {
      "cell_type": "code",
      "execution_count": null,
      "metadata": {
        "colab": {
          "base_uri": "https://localhost:8080/"
        },
        "id": "7zfyz178-LRl",
        "outputId": "44c77288-e163-4de3-f22f-0c58a5067404"
      },
      "outputs": [
        {
          "name": "stdout",
          "output_type": "stream",
          "text": [
            "Epoch 1/4\n"
          ]
        }
      ],
      "source": [
        "#train_images, test_images = train_images / 255.0, test_images / 255.0\n",
        "model.compile(optimizer='adam',\n",
        "              loss=tf.keras.losses.SparseCategoricalCrossentropy(from_logits=True),\n",
        "              metrics=['accuracy'])\n",
        "\n",
        "history = model.fit(ds_train, epochs=10, verbose=2)"
      ]
    },
    {
      "cell_type": "code",
      "execution_count": null,
      "metadata": {
        "id": "KXAlCnSRebBW"
      },
      "outputs": [],
      "source": [
        "test_loss, test_acc = model.evaluate(ds_validate, verbose=2)\n",
        "print(test_acc)"
      ]
    },
    {
      "cell_type": "code",
      "execution_count": null,
      "metadata": {
        "id": "_wHJcNNYJ2IA"
      },
      "outputs": [],
      "source": [
        "model.save(\"PlantCare.h5\")"
      ]
    }
  ],
  "metadata": {
    "colab": {
      "collapsed_sections": [],
      "provenance": []
    },
    "kernelspec": {
      "display_name": "Python 3",
      "name": "python3"
    },
    "language_info": {
      "name": "python"
    }
  },
  "nbformat": 4,
  "nbformat_minor": 0
}
